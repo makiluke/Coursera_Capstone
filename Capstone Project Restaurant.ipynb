{
    "cells": [
        {
            "cell_type": "markdown",
            "metadata": {
                "collapsed": true
            },
            "source": "# Python Restaurant Cluster Analysis in St. Paul using Python, Foursquare API"
        },
        {
            "cell_type": "markdown",
            "metadata": {},
            "source": "# Introduction"
        },
        {
            "cell_type": "markdown",
            "metadata": {},
            "source": "## Making a decision on where to locate a restaurant can be a difficult one. This project will explore restaurant location selection using Python, and Foursquare. More importantly, it will show how Python can be used to help solve common business problems. This same process of applying data analysis can be used to increase the likelihood of business success."
        },
        {
            "cell_type": "markdown",
            "metadata": {},
            "source": "## Why use quantitative analysis instead of a strictly qualitative analysis? After all... Don't business owners usually have elite intuition?\n\n### A strictly quantitative approach is not recommended, because there are many variables to consider, but we do concede that specialized business knowledge can be more important than raw, often misleading, statistics.\n### We are simply trying to add a few additional predictive factors that increase the likelihood of the restaurant succeeding. Not doing this is like asking out a crush without deodorant; it may not matter, but we aren't going to take our chances."
        },
        {
            "cell_type": "markdown",
            "metadata": {},
            "source": "## Getting started."
        },
        {
            "cell_type": "markdown",
            "metadata": {},
            "source": "#### We want the location that produces the highest expected value.\n#### We want to maximze the equation: Profit = Revenue - Cost\n#### The exact revenue over another may not be clear, we can provide an estimate."
        },
        {
            "cell_type": "markdown",
            "metadata": {},
            "source": "### There are three main factors that influence location selection:\n1. Number of customers in the area\n2. Competition\n3. Cost of the location\n\nWe can estimate the scale of the revenue of each location by dividing number of customers in the cluster by the number of competing restaurants. Because number of customers is difficult to pin down, we will use the population of the cluster.\n\nIn real life, there are many ways we could get a better estimate for this number, including by going to a location and counting how many people walk by a building in a given hour.\n\n\n\n### There are other factors that are important, but we do not care. We want to focus on the most important factors for now. We can always quickly add additional variables later."
        },
        {
            "cell_type": "markdown",
            "metadata": {},
            "source": "## In a more thorough exploration of the data, we would like to control for other variables that affect restaurant choice including:\n1. Historical success of restaurants in the area. Current and future projection.\n2. Demographic breakdown.\n3. Projected future customers of the location\n#### However, these factors are beyond the scope of this project."
        },
        {
            "cell_type": "markdown",
            "metadata": {},
            "source": "## Data"
        },
        {
            "cell_type": "markdown",
            "metadata": {},
            "source": "This project will scrape Wikipedia for location information of all the neighborhoods in St. Paul, Minnesota. These neighbourhoods will then be explored using data from the Foursquare API and clustered. An analysis of the data will be used using the criteria in the Introduction and finally, a recommendation will be given on where to locate the restaurant."
        },
        {
            "cell_type": "code",
            "execution_count": null,
            "metadata": {},
            "outputs": [],
            "source": ""
        }
    ],
    "metadata": {
        "kernelspec": {
            "display_name": "Python 3.6",
            "language": "python",
            "name": "python3"
        },
        "language_info": {
            "codemirror_mode": {
                "name": "ipython",
                "version": 3
            },
            "file_extension": ".py",
            "mimetype": "text/x-python",
            "name": "python",
            "nbconvert_exporter": "python",
            "pygments_lexer": "ipython3",
            "version": "3.6.8"
        }
    },
    "nbformat": 4,
    "nbformat_minor": 1
}